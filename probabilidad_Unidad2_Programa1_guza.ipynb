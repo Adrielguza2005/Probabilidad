{
  "nbformat": 4,
  "nbformat_minor": 0,
  "metadata": {
    "colab": {
      "provenance": []
    },
    "kernelspec": {
      "name": "python3",
      "display_name": "Python 3"
    },
    "language_info": {
      "name": "python"
    }
  },
  "cells": [
    {
      "cell_type": "markdown",
      "source": [
        "#Probabilidad Unidad2 Programa numero1"
      ],
      "metadata": {
        "id": "pLkmoVk3nQK1"
      }
    },
    {
      "cell_type": "code",
      "source": [],
      "metadata": {
        "id": "nTTagqNCMdFP"
      },
      "execution_count": null,
      "outputs": []
    },
    {
      "cell_type": "code",
      "execution_count": null,
      "metadata": {
        "id": "hCpBG4rpnOyU"
      },
      "outputs": [],
      "source": [
        "import math as mt\n",
        "from itertools import combinations\n",
        "from itertools import combinations_with_replacement\n",
        "import numpy as np"
      ]
    },
    {
      "cell_type": "code",
      "source": [
        "nombres = [\"Oscar\", \"Paco\", \"Paty\", \"Laura\", \"Ruben\",\"Luis\",\"Lucy\",\"Alberrto\",\"Juan\",\"Dany\"]\n",
        "n= len (nombres)\n",
        "r = 2 #¿como agrupar?\n",
        "\n",
        "Cn= mt.factorial (n)/ (mt.factorial(r) * mt.factorial(n-r))\n",
        "print (\"Existen \", Cn,\" posibles combinaciones sin repeticion total de \",n,\" nombres \",\" en grupos de \",r,\" en \", r)\n",
        "print (\"Aqui las convinaciones\")\n",
        "combinaciones_nombres = list(combinations(nombres,r))\n",
        "# Imprime las combinaciones\n",
        "for combinacion in combinaciones_nombres:\n",
        "  print(combinacion)"
      ],
      "metadata": {
        "colab": {
          "base_uri": "https://localhost:8080/",
          "height": 211
        },
        "id": "SIOeG-tloKCJ",
        "outputId": "14c18982-ec02-4909-c8ac-dfb6ccc9a507"
      },
      "execution_count": 1,
      "outputs": [
        {
          "output_type": "error",
          "ename": "NameError",
          "evalue": "name 'mt' is not defined",
          "traceback": [
            "\u001b[0;31m---------------------------------------------------------------------------\u001b[0m",
            "\u001b[0;31mNameError\u001b[0m                                 Traceback (most recent call last)",
            "\u001b[0;32m<ipython-input-1-9c0a54bdbc65>\u001b[0m in \u001b[0;36m<cell line: 5>\u001b[0;34m()\u001b[0m\n\u001b[1;32m      3\u001b[0m \u001b[0mr\u001b[0m \u001b[0;34m=\u001b[0m \u001b[0;36m2\u001b[0m \u001b[0;31m#¿como agrupar?\u001b[0m\u001b[0;34m\u001b[0m\u001b[0;34m\u001b[0m\u001b[0m\n\u001b[1;32m      4\u001b[0m \u001b[0;34m\u001b[0m\u001b[0m\n\u001b[0;32m----> 5\u001b[0;31m \u001b[0mCn\u001b[0m\u001b[0;34m=\u001b[0m \u001b[0mmt\u001b[0m\u001b[0;34m.\u001b[0m\u001b[0mfactorial\u001b[0m \u001b[0;34m(\u001b[0m\u001b[0mn\u001b[0m\u001b[0;34m)\u001b[0m\u001b[0;34m/\u001b[0m \u001b[0;34m(\u001b[0m\u001b[0mmt\u001b[0m\u001b[0;34m.\u001b[0m\u001b[0mfactorial\u001b[0m\u001b[0;34m(\u001b[0m\u001b[0mr\u001b[0m\u001b[0;34m)\u001b[0m \u001b[0;34m*\u001b[0m \u001b[0mmt\u001b[0m\u001b[0;34m.\u001b[0m\u001b[0mfactorial\u001b[0m\u001b[0;34m(\u001b[0m\u001b[0mn\u001b[0m\u001b[0;34m-\u001b[0m\u001b[0mr\u001b[0m\u001b[0;34m)\u001b[0m\u001b[0;34m)\u001b[0m\u001b[0;34m\u001b[0m\u001b[0;34m\u001b[0m\u001b[0m\n\u001b[0m\u001b[1;32m      6\u001b[0m \u001b[0mprint\u001b[0m \u001b[0;34m(\u001b[0m\u001b[0;34m\"Existen \"\u001b[0m\u001b[0;34m,\u001b[0m \u001b[0mCn\u001b[0m\u001b[0;34m,\u001b[0m\u001b[0;34m\" posibles combinaciones sin repeticion total de \"\u001b[0m\u001b[0;34m,\u001b[0m\u001b[0mn\u001b[0m\u001b[0;34m,\u001b[0m\u001b[0;34m\" nombres \"\u001b[0m\u001b[0;34m,\u001b[0m\u001b[0;34m\" en grupos de \"\u001b[0m\u001b[0;34m,\u001b[0m\u001b[0mr\u001b[0m\u001b[0;34m,\u001b[0m\u001b[0;34m\" en \"\u001b[0m\u001b[0;34m,\u001b[0m \u001b[0mr\u001b[0m\u001b[0;34m)\u001b[0m\u001b[0;34m\u001b[0m\u001b[0;34m\u001b[0m\u001b[0m\n\u001b[1;32m      7\u001b[0m \u001b[0mprint\u001b[0m \u001b[0;34m(\u001b[0m\u001b[0;34m\"Aqui las convinaciones\"\u001b[0m\u001b[0;34m)\u001b[0m\u001b[0;34m\u001b[0m\u001b[0;34m\u001b[0m\u001b[0m\n",
            "\u001b[0;31mNameError\u001b[0m: name 'mt' is not defined"
          ]
        }
      ]
    },
    {
      "cell_type": "markdown",
      "source": [
        "#Caracteres Alfabeticos y digitos\n"
      ],
      "metadata": {
        "id": "0Jt8OcL3qExB"
      }
    },
    {
      "cell_type": "code",
      "source": [
        "caracteres = [\"a\",\"b\",\"c\",\"d\",\"e\",\"f\",\"1\",\"2\",\"3\",\"4\",\"5\"]\n",
        "n = len(caracteres)\n",
        "r =10 #como agrupar\n",
        "Cn = mt.factorial (n) / (mt.factorial (r) *  mt.factorial(n-r))\n",
        "print(\"Eisten \",Cn,\" posibles combinaciones sin repetiion del total de \",n,\" caracteres \",\" en grupos de \",r,\" en \",r)\n",
        "print (\"aqui las combinaciones\")\n",
        "combinaciones_caracteres =list(combinations(caracteres,r))\n",
        "#imprime las combinaciones\n",
        "for combinacion in combinaciones_caracteres:\n",
        "    print (combinacion)"
      ],
      "metadata": {
        "colab": {
          "base_uri": "https://localhost:8080/"
        },
        "id": "K0AL-d4SqLAM",
        "outputId": "79d3f421-c825-4e71-c874-bb90a741a7f5"
      },
      "execution_count": null,
      "outputs": [
        {
          "output_type": "stream",
          "name": "stdout",
          "text": [
            "Eisten  11.0  posibles combinaciones sin repetiion del total de  11  caracteres   en grupos de  10  en  10\n",
            "aqui las combinaciones\n",
            "('a', 'b', 'c', 'd', 'e', 'f', '1', '2', '3', '4')\n",
            "('a', 'b', 'c', 'd', 'e', 'f', '1', '2', '3', '5')\n",
            "('a', 'b', 'c', 'd', 'e', 'f', '1', '2', '4', '5')\n",
            "('a', 'b', 'c', 'd', 'e', 'f', '1', '3', '4', '5')\n",
            "('a', 'b', 'c', 'd', 'e', 'f', '2', '3', '4', '5')\n",
            "('a', 'b', 'c', 'd', 'e', '1', '2', '3', '4', '5')\n",
            "('a', 'b', 'c', 'd', 'f', '1', '2', '3', '4', '5')\n",
            "('a', 'b', 'c', 'e', 'f', '1', '2', '3', '4', '5')\n",
            "('a', 'b', 'd', 'e', 'f', '1', '2', '3', '4', '5')\n",
            "('a', 'c', 'd', 'e', 'f', '1', '2', '3', '4', '5')\n",
            "('b', 'c', 'd', 'e', 'f', '1', '2', '3', '4', '5')\n"
          ]
        }
      ]
    },
    {
      "cell_type": "code",
      "source": [
        "dado = [1 ,2 ,3 ,4 ,5 ,6 ]\n",
        "n =len(dado)\n",
        "r = 2 #¿como agrupar?, de dos porque hay 2 dados\n",
        "CnR = mt.factorial(n+r-1) / (mt.factorial (r) * mt.factorial (n+r-1))\n",
        "print (\"Existen \",CnR, \" posible de combinaciones con repeticion del total de \",n, \" caracteres \",\" en grupo de \", r, \" en \",r )\n",
        "print (\"aqui las combinaciones\")\n",
        "#Definir el conjuno de elementos\n",
        "elementos=[1,2 ,3 ,4 ,5 ,6 ]\n",
        "#numero de elementos a elegir en cada combinacion\n",
        "r=2\n",
        "#calcular las combinaciones con repeticion\n",
        "combinacioes_dados = list(combinations_with_replacement(dado,r))\n",
        "#imprimir la combinacion\n",
        "for combinacion in combinacioes_dados:\n",
        "    print (combinacion)"
      ],
      "metadata": {
        "colab": {
          "base_uri": "https://localhost:8080/",
          "height": 211
        },
        "id": "K2GlVMUssPcX",
        "outputId": "5ebb5dd4-c4b5-40d2-b030-91365e2c3265"
      },
      "execution_count": 2,
      "outputs": [
        {
          "output_type": "error",
          "ename": "NameError",
          "evalue": "name 'mt' is not defined",
          "traceback": [
            "\u001b[0;31m---------------------------------------------------------------------------\u001b[0m",
            "\u001b[0;31mNameError\u001b[0m                                 Traceback (most recent call last)",
            "\u001b[0;32m<ipython-input-2-25e27242af35>\u001b[0m in \u001b[0;36m<cell line: 4>\u001b[0;34m()\u001b[0m\n\u001b[1;32m      2\u001b[0m \u001b[0mn\u001b[0m \u001b[0;34m=\u001b[0m\u001b[0mlen\u001b[0m\u001b[0;34m(\u001b[0m\u001b[0mdado\u001b[0m\u001b[0;34m)\u001b[0m\u001b[0;34m\u001b[0m\u001b[0;34m\u001b[0m\u001b[0m\n\u001b[1;32m      3\u001b[0m \u001b[0mr\u001b[0m \u001b[0;34m=\u001b[0m \u001b[0;36m2\u001b[0m \u001b[0;31m#¿como agrupar?, de dos porque hay 2 dados\u001b[0m\u001b[0;34m\u001b[0m\u001b[0;34m\u001b[0m\u001b[0m\n\u001b[0;32m----> 4\u001b[0;31m \u001b[0mCnR\u001b[0m \u001b[0;34m=\u001b[0m \u001b[0mmt\u001b[0m\u001b[0;34m.\u001b[0m\u001b[0mfactorial\u001b[0m\u001b[0;34m(\u001b[0m\u001b[0mn\u001b[0m\u001b[0;34m+\u001b[0m\u001b[0mr\u001b[0m\u001b[0;34m-\u001b[0m\u001b[0;36m1\u001b[0m\u001b[0;34m)\u001b[0m \u001b[0;34m/\u001b[0m \u001b[0;34m(\u001b[0m\u001b[0mmt\u001b[0m\u001b[0;34m.\u001b[0m\u001b[0mfactorial\u001b[0m \u001b[0;34m(\u001b[0m\u001b[0mr\u001b[0m\u001b[0;34m)\u001b[0m \u001b[0;34m*\u001b[0m \u001b[0mmt\u001b[0m\u001b[0;34m.\u001b[0m\u001b[0mfactorial\u001b[0m \u001b[0;34m(\u001b[0m\u001b[0mn\u001b[0m\u001b[0;34m+\u001b[0m\u001b[0mr\u001b[0m\u001b[0;34m-\u001b[0m\u001b[0;36m1\u001b[0m\u001b[0;34m)\u001b[0m\u001b[0;34m)\u001b[0m\u001b[0;34m\u001b[0m\u001b[0;34m\u001b[0m\u001b[0m\n\u001b[0m\u001b[1;32m      5\u001b[0m \u001b[0mprint\u001b[0m \u001b[0;34m(\u001b[0m\u001b[0;34m\"Existen \"\u001b[0m\u001b[0;34m,\u001b[0m\u001b[0mCnR\u001b[0m\u001b[0;34m,\u001b[0m \u001b[0;34m\" posible de combinaciones con repeticion del total de \"\u001b[0m\u001b[0;34m,\u001b[0m\u001b[0mn\u001b[0m\u001b[0;34m,\u001b[0m \u001b[0;34m\" caracteres \"\u001b[0m\u001b[0;34m,\u001b[0m\u001b[0;34m\" en grupo de \"\u001b[0m\u001b[0;34m,\u001b[0m \u001b[0mr\u001b[0m\u001b[0;34m,\u001b[0m \u001b[0;34m\" en \"\u001b[0m\u001b[0;34m,\u001b[0m\u001b[0mr\u001b[0m \u001b[0;34m)\u001b[0m\u001b[0;34m\u001b[0m\u001b[0;34m\u001b[0m\u001b[0m\n\u001b[1;32m      6\u001b[0m \u001b[0mprint\u001b[0m \u001b[0;34m(\u001b[0m\u001b[0;34m\"aqui las combinaciones\"\u001b[0m\u001b[0;34m)\u001b[0m\u001b[0;34m\u001b[0m\u001b[0;34m\u001b[0m\u001b[0m\n",
            "\u001b[0;31mNameError\u001b[0m: name 'mt' is not defined"
          ]
        }
      ]
    }
  ]
}