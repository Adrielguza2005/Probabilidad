{
  "nbformat": 4,
  "nbformat_minor": 0,
  "metadata": {
    "colab": {
      "provenance": []
    },
    "kernelspec": {
      "name": "python3",
      "display_name": "Python 3"
    },
    "language_info": {
      "name": "python"
    }
  },
  "cells": [
    {
      "cell_type": "code",
      "execution_count": 6,
      "metadata": {
        "colab": {
          "base_uri": "https://localhost:8080/"
        },
        "id": "WKbuksvS_5C4",
        "outputId": "4d1b1989-66d1-4fb7-df66-8a90f491f9c3"
      },
      "outputs": [
        {
          "output_type": "stream",
          "name": "stdout",
          "text": [
            "Probabilidad de 2 ingresos:  0.08422433748856832\n",
            "probabilidad de mas de 10 ingresos:  0.013695268598382881\n",
            "Es posible que san mayor que 10?,  No\n",
            "probabilidad de ningun motor descompuesto  0.3676954247709639\n",
            "probabilidad de 3 motores descompuestos:  0.061282509389840666\n",
            "probabilidad de 4 motores descompuestos:  0.015289955420838651\n"
          ]
        }
      ],
      "source": [
        "#ADRIEL GUTIÉRREZ ZALDIVAR 2YY\n",
        "#Ejercicios de tarea para el jueves 16 de mayo del 2024\n",
        "#EJERCICIO 1/2\n",
        "\n",
        "from scipy.stats import poisson\n",
        "from scipy.stats import binom\n",
        "\n",
        "#aqui mas que evaluarse probabilidades o algo parecido, solo se esta evaluando\n",
        "#una cantidad de personas que ingresan al hospital\n",
        "\n",
        "personas_ing=0\n",
        "media=5\n",
        "dos_ing=2\n",
        "mas_10_ing=10\n",
        "\n",
        "prob_2_ing=poisson.pmf(dos_ing, media)\n",
        "prob_10_ing=1-poisson.cdf(mas_10_ing, media)\n",
        "\n",
        "print(\"Probabilidad de 2 ingresos: \", prob_2_ing)\n",
        "\n",
        "print(\"probabilidad de mas de 10 ingresos: \", prob_10_ing)\n",
        "\n",
        "if(prob_10_ing>0.5):\n",
        "    mayor_10=\"Si\"\n",
        "else:\n",
        "    mayor_10=\"No\"\n",
        "print(\"Es posible que san mayor que 10?, \", mayor_10)\n",
        "\n",
        "#El hecho de poder hacer un calculo que nos indique cuales ingresos van a superar\n",
        "#los 10 hace que podamos saber que el numero de eventos es muy improbable que quede\n",
        "#muy mayor a la media que seria en este caso 5.\n",
        "\n",
        "\n",
        "#EJERCICIO 2/2\n",
        "\n",
        "\n",
        "#Se aplica la distribucion binominal para poder\n",
        "#calcular en cuantas veces una accion puede salir efectiva o no\n",
        "\n",
        "no_satisface=0.001\n",
        "motores=1000\n",
        "probabilidad_0=0\n",
        "probabilidad_3=3\n",
        "probabilidad_4=4\n",
        "\n",
        "p1=binom.pmf(probabilidad_0, motores, no_satisface)\n",
        "p2=binom.pmf(probabilidad_3, motores, no_satisface)\n",
        "p3=binom.pmf(probabilidad_4, motores, no_satisface)\n",
        "\n",
        "print(\"probabilidad de ningun motor descompuesto \",p1)\n",
        "print(\"probabilidad de 3 motores descompuestos: \",p2)\n",
        "print(\"probabilidad de 4 motores descompuestos: \",p3)"
      ]
    }
  ]
}